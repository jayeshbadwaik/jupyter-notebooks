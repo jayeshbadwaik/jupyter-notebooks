{
 "cells": [
  {
   "cell_type": "code",
   "execution_count": 12,
   "metadata": {},
   "outputs": [],
   "source": [
    "%display latex\n",
    "import sympy"
   ]
  },
  {
   "cell_type": "code",
   "execution_count": 13,
   "metadata": {},
   "outputs": [],
   "source": [
    "# Rotation Matrix\n",
    "R = matrix([[0,-1],[1,0]])"
   ]
  },
  {
   "cell_type": "code",
   "execution_count": 2,
   "metadata": {},
   "outputs": [],
   "source": [
    "# Coordinates for Triangles\n",
    "x1 = var('x_1')\n",
    "y1 = var('y_1')\n",
    "x2 = var('x_2')\n",
    "y2 = var('y_2')\n",
    "x3 = var('x_3')\n",
    "y3 = var('y_3')\n",
    "\n",
    "X1 = vector([x1,y1])\n",
    "X2 = vector([x2,y2])\n",
    "X3 = vector([x3,y3])"
   ]
  },
  {
   "cell_type": "code",
   "execution_count": 15,
   "metadata": {},
   "outputs": [],
   "source": [
    "# Coordinates for Midpoints\n",
    "M1 = 0.5 *(X1 + X2)\n",
    "M2 = 0.5 *(X2 + X3)"
   ]
  },
  {
   "cell_type": "code",
   "execution_count": 16,
   "metadata": {},
   "outputs": [],
   "source": [
    "# Normals for Faces\n",
    "N1 = R*(X2-X1)\n",
    "N1hat = N1/N1.norm() \n",
    "N2 = R*(X3-X2)\n",
    "N2hat = N2/N2.norm() "
   ]
  },
  {
   "cell_type": "code",
   "execution_count": 17,
   "metadata": {},
   "outputs": [],
   "source": [
    "t = var('t')\n",
    "u = var('u')\n",
    "LHS = M1 + N1hat * t\n",
    "RHS = M2 + N2hat * u\n",
    "\n",
    "xl = LHS[0]\n",
    "yl = LHS[1]\n",
    "xr = RHS[0]\n",
    "yr = RHS[1]"
   ]
  },
  {
   "cell_type": "code",
   "execution_count": 38,
   "metadata": {},
   "outputs": [],
   "source": [
    "eqn= [xl==xr, yl==yr]\n",
    "sol = solve(eqn, t,u)\n",
    "tsol = sol[0][0].rhs()\n",
    "usol = sol[0][1].rhs()"
   ]
  },
  {
   "cell_type": "code",
   "execution_count": 39,
   "metadata": {},
   "outputs": [
    {
     "data": {
      "text/html": [
       "<html><script type=\"math/tex; mode=display\">\\newcommand{\\Bold}[1]{\\mathbf{#1}}\\frac{\\sqrt{{\\left(x_{1} - x_{2}\\right)}^{2} + {\\left(y_{1} - y_{2}\\right)}^{2}} {\\left(y_{1} + y_{2}\\right)} y_{3} - \\sqrt{{\\left(x_{1} - x_{2}\\right)}^{2} + {\\left(y_{1} - y_{2}\\right)}^{2}} y_{3}^{2} - \\sqrt{{\\left(x_{1} - x_{2}\\right)}^{2} + {\\left(y_{1} - y_{2}\\right)}^{2}} {\\left(x_{1} x_{2} - {\\left(x_{1} + x_{2}\\right)} x_{3} + x_{3}^{2} + y_{1} y_{2}\\right)}}{2 \\, {\\left({\\left(x_{2} - x_{3}\\right)} y_{1} - {\\left(x_{1} - x_{3}\\right)} y_{2} + {\\left(x_{1} - x_{2}\\right)} y_{3}\\right)}}</script></html>"
      ],
      "text/plain": [
       "1/2*(sqrt((x_1 - x_2)^2 + (y_1 - y_2)^2)*(y_1 + y_2)*y_3 - sqrt((x_1 - x_2)^2 + (y_1 - y_2)^2)*y_3^2 - sqrt((x_1 - x_2)^2 + (y_1 - y_2)^2)*(x_1*x_2 - (x_1 + x_2)*x_3 + x_3^2 + y_1*y_2))/((x_2 - x_3)*y_1 - (x_1 - x_3)*y_2 + (x_1 - x_2)*y_3)"
      ]
     },
     "execution_count": 39,
     "metadata": {},
     "output_type": "execute_result"
    }
   ],
   "source": [
    "tsol"
   ]
  },
  {
   "cell_type": "code",
   "execution_count": 40,
   "metadata": {},
   "outputs": [
    {
     "data": {
      "text/html": [
       "<html><script type=\"math/tex; mode=display\">\\newcommand{\\Bold}[1]{\\mathbf{#1}}-\\frac{{\\left(x_{1}^{2} - x_{1} x_{2} - {\\left(x_{1} - x_{2}\\right)} x_{3} + y_{1}^{2} - y_{1} y_{2} - {\\left(y_{1} - y_{2}\\right)} y_{3}\\right)} \\sqrt{{\\left(x_{2} - x_{3}\\right)}^{2} + {\\left(y_{2} - y_{3}\\right)}^{2}}}{2 \\, {\\left({\\left(x_{2} - x_{3}\\right)} y_{1} - {\\left(x_{1} - x_{3}\\right)} y_{2} + {\\left(x_{1} - x_{2}\\right)} y_{3}\\right)}}</script></html>"
      ],
      "text/plain": [
       "-1/2*(x_1^2 - x_1*x_2 - (x_1 - x_2)*x_3 + y_1^2 - y_1*y_2 - (y_1 - y_2)*y_3)*sqrt((x_2 - x_3)^2 + (y_2 - y_3)^2)/((x_2 - x_3)*y_1 - (x_1 - x_3)*y_2 + (x_1 - x_2)*y_3)"
      ]
     },
     "execution_count": 40,
     "metadata": {},
     "output_type": "execute_result"
    }
   ],
   "source": [
    "usol"
   ]
  },
  {
   "cell_type": "code",
   "execution_count": 50,
   "metadata": {},
   "outputs": [],
   "source": [
    "C = M2 + N2hat * usol"
   ]
  },
  {
   "cell_type": "code",
   "execution_count": 51,
   "metadata": {},
   "outputs": [
    {
     "data": {
      "text/html": [
       "<html><script type=\"math/tex; mode=display\">\\newcommand{\\Bold}[1]{\\mathbf{#1}}\\left(0.5 \\, x_{2} + 0.5 \\, x_{3} - \\frac{{\\left(x_{1}^{2} - x_{1} x_{2} - {\\left(x_{1} - x_{2}\\right)} x_{3} + y_{1}^{2} - y_{1} y_{2} - {\\left(y_{1} - y_{2}\\right)} y_{3}\\right)} {\\left(y_{2} - y_{3}\\right)}}{2 \\, {\\left({\\left(x_{2} - x_{3}\\right)} y_{1} - {\\left(x_{1} - x_{3}\\right)} y_{2} + {\\left(x_{1} - x_{2}\\right)} y_{3}\\right)}},\\,\\frac{{\\left(x_{1}^{2} - x_{1} x_{2} - {\\left(x_{1} - x_{2}\\right)} x_{3} + y_{1}^{2} - y_{1} y_{2} - {\\left(y_{1} - y_{2}\\right)} y_{3}\\right)} {\\left(x_{2} - x_{3}\\right)}}{2 \\, {\\left({\\left(x_{2} - x_{3}\\right)} y_{1} - {\\left(x_{1} - x_{3}\\right)} y_{2} + {\\left(x_{1} - x_{2}\\right)} y_{3}\\right)}} + 0.5 \\, y_{2} + 0.5 \\, y_{3}\\right)</script></html>"
      ],
      "text/plain": [
       "(0.5*x_2 + 0.5*x_3 - 1/2*(x_1^2 - x_1*x_2 - (x_1 - x_2)*x_3 + y_1^2 - y_1*y_2 - (y_1 - y_2)*y_3)*(y_2 - y_3)/((x_2 - x_3)*y_1 - (x_1 - x_3)*y_2 + (x_1 - x_2)*y_3), 1/2*(x_1^2 - x_1*x_2 - (x_1 - x_2)*x_3 + y_1^2 - y_1*y_2 - (y_1 - y_2)*y_3)*(x_2 - x_3)/((x_2 - x_3)*y_1 - (x_1 - x_3)*y_2 + (x_1 - x_2)*y_3) + 0.5*y_2 + 0.5*y_3)"
      ]
     },
     "execution_count": 51,
     "metadata": {},
     "output_type": "execute_result"
    }
   ],
   "source": [
    "C.simplify()"
   ]
  },
  {
   "cell_type": "code",
   "execution_count": 63,
   "metadata": {},
   "outputs": [
    {
     "data": {
      "text/html": [
       "<html><script type=\"math/tex; mode=display\">\\newcommand{\\Bold}[1]{\\mathbf{#1}}0.500000000000000 \\, x_{2} + 0.500000000000000 \\, x_{3} - \\frac{{\\left({\\left(x_{1} - x_{2}\\right)} {\\left(x_{1} - x_{3}\\right)} + {\\left(y_{1} - y_{2}\\right)} {\\left(y_{1} - y_{3}\\right)}\\right)} {\\left(y_{2} - y_{3}\\right)}}{2 \\, {\\left({\\left(x_{2} - x_{3}\\right)} y_{1} - {\\left(x_{1} - x_{3}\\right)} y_{2} + {\\left(x_{1} - x_{2}\\right)} y_{3}\\right)}}</script></html>"
      ],
      "text/plain": [
       "0.500000000000000*x_2 + 0.500000000000000*x_3 - 1/2*((x_1 - x_2)*(x_1 - x_3) + (y_1 - y_2)*(y_1 - y_3))*(y_2 - y_3)/((x_2 - x_3)*y_1 - (x_1 - x_3)*y_2 + (x_1 - x_2)*y_3)"
      ]
     },
     "execution_count": 63,
     "metadata": {},
     "output_type": "execute_result"
    }
   ],
   "source": [
    "MCnum = (x1 - x2)*(x1 - x3) + (y1-y2)*(y1 - y3)\n",
    "MCden = 2*((x2 - x3)* y1 + (x3 - x1 )* y2 + (x1 - x2)*y3)\n",
    "MCx = 0.5 * (x2 + x3) - MCnum/MCden*(y2-y3)\n",
    "MCy = MCnum/MCden + 0.5*(y2 * y3)\n",
    "(C[0].simplify() - MCx)*MCden\n",
    "MCx"
   ]
  },
  {
   "cell_type": "code",
   "execution_count": 7,
   "metadata": {},
   "outputs": [],
   "source": [
    "IM = matrix([[1,x1,y1],[1,x2,y2],[1,x3,y3]])"
   ]
  },
  {
   "cell_type": "code",
   "execution_count": 12,
   "metadata": {},
   "outputs": [],
   "source": [
    "IIM = IM.inverse()"
   ]
  },
  {
   "cell_type": "code",
   "execution_count": 18,
   "metadata": {},
   "outputs": [
    {
     "data": {
      "text/plain": [
       "[  1 x_1 y_1]\n",
       "[  1 x_2 y_2]\n",
       "[  1 x_3 y_3]"
      ]
     },
     "execution_count": 18,
     "metadata": {},
     "output_type": "execute_result"
    }
   ],
   "source": [
    "IM"
   ]
  },
  {
   "cell_type": "code",
   "execution_count": null,
   "metadata": {},
   "outputs": [],
   "source": []
  }
 ],
 "metadata": {
  "kernelspec": {
   "display_name": "SageMath 8.7",
   "language": "",
   "name": "sagemath"
  },
  "language_info": {
   "codemirror_mode": {
    "name": "ipython",
    "version": 2
   },
   "file_extension": ".py",
   "mimetype": "text/x-python",
   "name": "python",
   "nbconvert_exporter": "python",
   "pygments_lexer": "ipython2",
   "version": "2.7.16"
  }
 },
 "nbformat": 4,
 "nbformat_minor": 2
}
