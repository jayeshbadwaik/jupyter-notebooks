{
 "cells": [
  {
   "cell_type": "markdown",
   "metadata": {},
   "source": [
    "# Proriol Polynomials "
   ]
  },
  {
   "cell_type": "markdown",
   "metadata": {},
   "source": [
    "In this notebook, we construct an explicit form of Proriol polynomialks which can then be copy pasted into a C++code. Look at [PP2017](https://www.jayeshbadwaik.in/doc/public/PP2017.pdf)  for the details on the formulas and calculation."
   ]
  },
  {
   "cell_type": "code",
   "execution_count": 29,
   "metadata": {},
   "outputs": [],
   "source": [
    "from mpmath import *"
   ]
  },
  {
   "cell_type": "code",
   "execution_count": 54,
   "metadata": {},
   "outputs": [],
   "source": [
    "# Degree upto which Proriol Polynomials are to be Generated\n",
    "N = Integer(3)\n",
    "# Precision Required (in terms of decimal digits)\n",
    "dps=10\n",
    "mp.dps=dps"
   ]
  },
  {
   "cell_type": "code",
   "execution_count": 55,
   "metadata": {},
   "outputs": [],
   "source": [
    "# Setting the Symbolic Variable for the Variables\n",
    "eta = var('eta')\n",
    "xi = var('xi')"
   ]
  },
  {
   "cell_type": "code",
   "execution_count": 56,
   "metadata": {},
   "outputs": [],
   "source": [
    "def scale_factor(i,j):\n",
    "    return sqrt(2*(i+1)*(i+j+1))"
   ]
  },
  {
   "cell_type": "code",
   "execution_count": 57,
   "metadata": {},
   "outputs": [],
   "source": [
    "def mode(k,l):\n",
    "    return Integer((k+l)*(k+l+1)/2 + l);"
   ]
  },
  {
   "cell_type": "code",
   "execution_count": 58,
   "metadata": {},
   "outputs": [],
   "source": [
    "def number_of_mode(N):\n",
    "    return Integer((N+1) *(N+2)/2)"
   ]
  },
  {
   "cell_type": "code",
   "execution_count": 59,
   "metadata": {},
   "outputs": [],
   "source": [
    "def generate_degree_list(N):\n",
    "    nmode = number_of_mode(N)\n",
    "    degree_list  = [None] * nmode\n",
    "    for i in (0..N):\n",
    "        for j in (0..i):\n",
    "            k = j;\n",
    "            l = i-j;\n",
    "            mode_index = mode(k,l)\n",
    "            degree_list[mode_index] = i\n",
    "    return degree_list"
   ]
  },
  {
   "cell_type": "code",
   "execution_count": 60,
   "metadata": {},
   "outputs": [],
   "source": [
    "def generate_kllist(N):\n",
    "    nmode = number_of_mode(N)\n",
    "    klist = [None] * nmode\n",
    "    llist = [None] * nmode\n",
    "    for i in (0..N):\n",
    "        for j in (0..i):\n",
    "            k = j;\n",
    "            l = i-j;\n",
    "            mode_index = mode(k,l)\n",
    "            klist[mode_index] = k\n",
    "            llist[mode_index] = l\n",
    "    return klist, llist"
   ]
  },
  {
   "cell_type": "code",
   "execution_count": 61,
   "metadata": {},
   "outputs": [],
   "source": [
    "# Generating the Proriol Polynomials \n",
    "nmode = number_of_mode(N)\n",
    "Pkl = [None] * nmode;\n",
    "for i in (0..N):\n",
    "    for j in (0..i):\n",
    "        k = j;\n",
    "        l = i-j;\n",
    "        xiprime = 2 * xi/(1 - eta) - 1\n",
    "        etaprime = 2*eta - 1\n",
    "        mode_index = mode(k,l)\n",
    "        Pkl[mode_index] = legendre_P(k, xiprime)  \n",
    "        Pkl[mode_index] *= (1-eta)**k \n",
    "        Pkl[mode_index] *= jacobi_P(l,2*k+1,0, etaprime)"
   ]
  },
  {
   "cell_type": "code",
   "execution_count": 62,
   "metadata": {},
   "outputs": [],
   "source": [
    "# Converting the polynomials into symbolic expressions \n",
    "R.<xi,eta> = PolynomialRing(QQ,2)\n",
    "P = [None] * nmode;\n",
    "coeff_list = [None]*nmode;\n",
    "degree_list = generate_degree_list(N)\n",
    "[klist, llist] = generate_kllist(N)\n",
    "\n",
    "for i in (0..nmode-1):\n",
    "    P[i] = R(Pkl[i])\n",
    "    degree = degree_list[i]\n",
    "    nterm = number_of_mode(degree)\n",
    "    coeff_list[i] = [None] * nterm\n",
    "    for j in (0..nterm-1):\n",
    "        k = klist[j]\n",
    "        l = llist[j]\n",
    "        coeff_list[i][j] = P[i].coefficient({xi:k,eta:l})\n",
    "        \n",
    "# Generating Derivatives\n",
    "DP_xi = [None] * nmode;\n",
    "DP_eta = [None] * nmode;\n",
    "d_coeff_list = [None]*nmode;\n",
    "\n",
    "for i in (0..nmode-1):\n",
    "    DP_xi[i] = P[i].derivative(xi)\n",
    "    DP_eta[i] = P[i].derivative(eta)\n",
    "    degree = degree_list[i]\n",
    "    nterm = number_of_mode(degree)\n",
    "    d_coeff_list[i] = [None] * nterm\n",
    "    for j in (0..nterm-1):\n",
    "        k = klist[j]\n",
    "        l = llist[j]\n",
    "        d_coeff_list[i][j] = [DP_xi[i].coefficient({xi:k,eta:l}), DP_eta[i].coefficient({xi:k,eta:l})]"
   ]
  },
  {
   "cell_type": "code",
   "execution_count": 63,
   "metadata": {},
   "outputs": [
    {
     "name": "stdout",
     "output_type": "stream",
     "text": [
      "polynomial_[0]={ 1 };\n",
      "polynomial_[1]={ -1, 2, 1 };\n",
      "polynomial_[2]={ -1, 0, 3 };\n",
      "polynomial_[3]={ 1, -6, -2, 6, 6, 1 };\n",
      "polynomial_[4]={ 1, -2, -6, 0, 10, 5 };\n",
      "polynomial_[5]={ 1, 0, -8, 0, 0, 10 };\n",
      "polynomial_[6]={ -1, 12, 3, -30, -24, -3, 20, 30, 12, 1 };\n",
      "polynomial_[7]={ -1, 6, 9, -6, -48, -15, 0, 42, 42, 7 };\n",
      "polynomial_[8]={ -1, 2, 13, 0, -24, -33, 0, 0, 42, 21 };\n",
      "polynomial_[9]={ -1, 0, 15, 0, 0, -45, 0, 0, 0, 35 };\n"
     ]
    }
   ],
   "source": [
    "# Output in C++11 Format (x^ky^l) (k,l)  \\in {(0,0),(0,1),(1,0),(2,0),(1,1),(0,2)} and so on, in that order.\n",
    "for i in range(0,nmode):\n",
    "    print \"polynomial_[{}]=\".format(i) +\"{\",\n",
    "    degree = degree_list[i]\n",
    "    nterm = number_of_mode(degree)\n",
    "    for j in range(0,nterm-1):\n",
    "        print \"{}\".format(coeff_list[i][j]) + \",\",\n",
    "    j = nterm - 1\n",
    "    print \"{}\".format(coeff_list[i][j]), \n",
    "    print \"};\""
   ]
  },
  {
   "cell_type": "code",
   "execution_count": 64,
   "metadata": {},
   "outputs": [
    {
     "name": "stdout",
     "output_type": "stream",
     "text": [
      "gradient_[0]={ [0, 0] };\n",
      "gradient_[1]={ [2, 1], [0, 0], [0, 0] };\n",
      "gradient_[2]={ [0, 3], [0, 0], [0, 0] };\n",
      "gradient_[3]={ [-6, -2], [12, 6], [6, 2], [0, 0], [0, 0], [0, 0] };\n",
      "gradient_[4]={ [-2, -6], [0, 10], [10, 10], [0, 0], [0, 0], [0, 0] };\n",
      "gradient_[5]={ [0, -8], [0, 0], [0, 20], [0, 0], [0, 0], [0, 0] };\n",
      "gradient_[6]={ [12, 3], [-60, -24], [-24, -6], [60, 30], [60, 24], [12, 3], [0, 0], [0, 0], [0, 0], [0, 0] };\n",
      "gradient_[7]={ [6, 9], [-12, -48], [-48, -30], [0, 42], [84, 84], [42, 21], [0, 0], [0, 0], [0, 0], [0, 0] };\n",
      "gradient_[8]={ [2, 13], [0, -24], [-24, -66], [0, 0], [0, 84], [42, 63], [0, 0], [0, 0], [0, 0], [0, 0] };\n",
      "gradient_[9]={ [0, 15], [0, 0], [0, -90], [0, 0], [0, 0], [0, 105], [0, 0], [0, 0], [0, 0], [0, 0] };\n"
     ]
    }
   ],
   "source": [
    "# Output in C++11 Format (x^ky^l) (k,l)  \\in {(0,0),(0,1),(1,0),(2,0),(1,1),(0,2)} and so on, in that order.\n",
    "for i in range(0,nmode):\n",
    "    print \"gradient_[{}]=\".format(i) +\"{\",\n",
    "    degree = degree_list[i]\n",
    "    nterm = number_of_mode(degree)\n",
    "    for j in range(0,nterm-1):\n",
    "        print \"{}\".format(d_coeff_list[i][j]) + \",\",\n",
    "    j = nterm - 1\n",
    "    print \"{}\".format(d_coeff_list[i][j]), \n",
    "    print \"};\""
   ]
  },
  {
   "cell_type": "markdown",
   "metadata": {},
   "source": [
    "--------------"
   ]
  },
  {
   "cell_type": "markdown",
   "metadata": {},
   "source": [
    "\n",
    "This work is licensed under a <a rel=\"license\" href=\"http://creativecommons.org/licenses/by-sa/4.0/\">Creative Commons Attribution-ShareAlike 4.0 International License</a>"
   ]
  }
 ],
 "metadata": {
  "kernelspec": {
   "display_name": "SageMath 8.2",
   "language": "",
   "name": "sagemath"
  },
  "language_info": {
   "codemirror_mode": {
    "name": "ipython",
    "version": 2
   },
   "file_extension": ".py",
   "mimetype": "text/x-python",
   "name": "python",
   "nbconvert_exporter": "python",
   "pygments_lexer": "ipython2",
   "version": "2.7.15"
  }
 },
 "nbformat": 4,
 "nbformat_minor": 2
}
