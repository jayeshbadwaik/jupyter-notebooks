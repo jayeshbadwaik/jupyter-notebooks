{
 "cells": [
  {
   "cell_type": "code",
   "execution_count": 30,
   "metadata": {},
   "outputs": [],
   "source": [
    "from sage.symbolic.integration.integral import definite_integral\n",
    "from sage.symbolic.integration.integral import indefinite_integral"
   ]
  },
  {
   "cell_type": "code",
   "execution_count": 3,
   "metadata": {},
   "outputs": [],
   "source": [
    "var('x');\n",
    "var('y');"
   ]
  },
  {
   "cell_type": "code",
   "execution_count": 20,
   "metadata": {},
   "outputs": [],
   "source": [
    "phi = [None] * 3\n",
    "phi[0] = sqrt(2);\n",
    "phi[1] = 2*sqrt(3)*(2 * x + y - 1);\n",
    "phi[2] = 2 * ( 3 * y -1);"
   ]
  },
  {
   "cell_type": "code",
   "execution_count": 21,
   "metadata": {},
   "outputs": [],
   "source": [
    "psi = [None] * 3\n",
    "psi[0] = 1 - 2 * y;\n",
    "psi[1] = 1 - 2 * x;\n",
    "psi[2] = -1 + 2 * x + 2* y;"
   ]
  },
  {
   "cell_type": "code",
   "execution_count": 27,
   "metadata": {},
   "outputs": [],
   "source": [
    "def inner_product(p,q):\n",
    "    return definite_integral(definite_integral(p * q,y,0,1-x),x,0,1)"
   ]
  },
  {
   "cell_type": "code",
   "execution_count": 28,
   "metadata": {},
   "outputs": [],
   "source": [
    "a=[[0, 0, 0], [0, 0, 0], [0, 0, 0]]\n",
    "for i in range(0,3):\n",
    "    for j in range(0,3):\n",
    "        a[i][j]= inner_product(phi[i],psi[j])"
   ]
  },
  {
   "cell_type": "code",
   "execution_count": 46,
   "metadata": {},
   "outputs": [
    {
     "data": {
      "text/plain": [
       "\\left(\\begin{array}{rrr}\n",
       "\\frac{1}{6} \\, \\sqrt{2} & \\frac{1}{6} \\, \\sqrt{2} & \\frac{1}{6} \\, \\sqrt{2} \\\\\n",
       "0 & -\\frac{1}{6} \\, \\sqrt{3} & \\frac{1}{6} \\, \\sqrt{3} \\\\\n",
       "-\\frac{1}{3} & \\frac{1}{6} & \\frac{1}{6}\n",
       "\\end{array}\\right)"
      ]
     },
     "execution_count": 46,
     "metadata": {},
     "output_type": "execute_result"
    }
   ],
   "source": [
    "b=matrix(SR,3,a)\n",
    "latex(b)"
   ]
  },
  {
   "cell_type": "code",
   "execution_count": 26,
   "metadata": {},
   "outputs": [
    {
     "data": {
      "text/plain": [
       "0"
      ]
     },
     "execution_count": 26,
     "metadata": {},
     "output_type": "execute_result"
    }
   ],
   "source": [
    "inner_product(2 * sqrt(3) * ( 2 * x +y-1), (1 - 2*y))"
   ]
  },
  {
   "cell_type": "code",
   "execution_count": 40,
   "metadata": {},
   "outputs": [
    {
     "data": {
      "text/plain": [
       "0"
      ]
     },
     "execution_count": 40,
     "metadata": {},
     "output_type": "execute_result"
    }
   ],
   "source": [
    "indefinite_integral(2 * sqrt(3) * ( 2 * x +y-1) * (1 - 2*y),x)({x:1-y}).full_simplify()"
   ]
  },
  {
   "cell_type": "code",
   "execution_count": null,
   "metadata": {},
   "outputs": [],
   "source": []
  }
 ],
 "metadata": {
  "kernelspec": {
   "display_name": "SageMath 8.7",
   "language": "",
   "name": "sagemath"
  },
  "language_info": {
   "codemirror_mode": {
    "name": "ipython",
    "version": 2
   },
   "file_extension": ".py",
   "mimetype": "text/x-python",
   "name": "python",
   "nbconvert_exporter": "python",
   "pygments_lexer": "ipython2",
   "version": "2.7.16"
  }
 },
 "nbformat": 4,
 "nbformat_minor": 2
}
