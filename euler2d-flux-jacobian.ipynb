{
 "cells": [
  {
   "cell_type": "code",
   "execution_count": 2,
   "metadata": {},
   "outputs": [],
   "source": [
    "\n",
    "# Conserved Variables Vector \n",
    "u_0 = var('u_0')\n",
    "u_1 = var('u_1')\n",
    "u_2 = var('u_2')\n",
    "u_3 = var('u_3')\n",
    "gamma = var('gamma')\n",
    "p = (gamma - 1) * (u_3 - 1/2 / u_0 * (u_1* u_1 + u_2 * u_2))\n",
    "w = [u_0, u_1, u_2, u_3]\n",
    "nu_1 = var('nu_1')\n",
    "nu_2 = var('nu_2')"
   ]
  },
  {
   "cell_type": "code",
   "execution_count": 3,
   "metadata": {},
   "outputs": [],
   "source": [
    "# Flux functions \n",
    "f_x = [u_1, p + u_1 * u_1 / u_0, u_1 * u_2/u_0, (u_3+p)*u_1/u_0] \n",
    "f_y = [u_2,  u_1 * u_2/u_0, p + u_2 * u_2 / u_0, (u_3+p)*u_2/u_0] "
   ]
  },
  {
   "cell_type": "code",
   "execution_count": 4,
   "metadata": {},
   "outputs": [],
   "source": [
    "# Calculating Derivatives \n",
    "df_x = jacobian(f_x, w)\n",
    "df_y = jacobian(f_y,w)\n",
    "df_nu = df_x * nu_1 + df_y * nu_2"
   ]
  },
  {
   "cell_type": "code",
   "execution_count": 5,
   "metadata": {},
   "outputs": [],
   "source": [
    "df_x = df_x.apply_map(lambda x: x.full_simplify())\n",
    "df_y = df_y.apply_map(lambda x: x.full_simplify())\n",
    "df_nu = df_nu.apply_map(lambda x: x.full_simplify())"
   ]
  },
  {
   "cell_type": "code",
   "execution_count": 6,
   "metadata": {},
   "outputs": [],
   "source": [
    "# Substituting Pressure\n",
    "var('p'); # Pressure \n",
    "df_x = df_x.substitute(u_3 = p/(gamma -1) + 1/2 / u_0 * (u_1* u_1 + u_2 * u_2))\n",
    "df_y = df_y.substitute(u_3 = p/(gamma -1) + 1/2 / u_0 * (u_1* u_1 + u_2 * u_2))\n",
    "df_nu = df_nu.substitute(u_3 = p/(gamma -1) + 1/2 / u_0 * (u_1* u_1 + u_2 * u_2))"
   ]
  },
  {
   "cell_type": "code",
   "execution_count": 7,
   "metadata": {},
   "outputs": [],
   "source": [
    "# Substituting Speed \n",
    "var('m_s'); # speed ^2 * density^2\n",
    "df_x = df_x.substitute(u_1*u_1 + u_2 *u_2 == m_s)\n",
    "df_y = df_y.substitute(u_1*u_1 + u_2 *u_2 == m_s)\n",
    "df_nu = df_nu.substitute(u_1*u_1 + u_2 *u_2 == m_s)"
   ]
  },
  {
   "cell_type": "code",
   "execution_count": 8,
   "metadata": {},
   "outputs": [],
   "source": [
    "# Substituting velocity in x direction \n",
    "var('v_1'); # velocity in x direction\n",
    "df_x = df_x.substitute(u_1 = u_0 * v_1)\n",
    "df_y = df_y.substitute(u_1 = u_0 * v_1)\n",
    "df_nu = df_nu.substitute(u_1 = u_0 * v_1)"
   ]
  },
  {
   "cell_type": "code",
   "execution_count": 9,
   "metadata": {},
   "outputs": [],
   "source": [
    "# Substituting Velocity in Y Direction \n",
    "var('v_2'); # velocity in the y direction\n",
    "df_x = df_x.substitute(u_2 = u_0 * v_2)\n",
    "df_y = df_y.substitute(u_2 = u_0 * v_2)\n",
    "df_nu = df_nu.substitute(u_2 = u_0 * v_2)"
   ]
  },
  {
   "cell_type": "code",
   "execution_count": 10,
   "metadata": {},
   "outputs": [],
   "source": [
    "# Substituting phi_m\n",
    "var('phi_m'); # speed^2 * density ^2 * (gamma -1) /2 \n",
    "df_x = df_x.substitute(m_s = 2 * phi_m / (gamma -1))\n",
    "df_y = df_y.substitute(m_s = 2 * phi_m / (gamma -1))\n",
    "df_nu = df_nu.substitute(m_s = 2 * phi_m / (gamma -1))"
   ]
  },
  {
   "cell_type": "code",
   "execution_count": 11,
   "metadata": {},
   "outputs": [],
   "source": [
    "# Substituting phi\n",
    "var('phi');\n",
    "df_x = df_x.substitute(phi_m = phi * u_0 * u_0)\n",
    "df_y = df_y.substitute(phi_m = phi * u_0 * u_0)\n",
    "df_nu = df_nu.substitute(phi_m = phi * u_0 * u_0)"
   ]
  },
  {
   "cell_type": "code",
   "execution_count": 12,
   "metadata": {},
   "outputs": [],
   "source": [
    "# Simplifying the Expression \n",
    "df_x = simplify(df_x).expand()\n",
    "df_y = simplify(df_y).expand()\n",
    "df_nu = simplify(df_nu).expand()"
   ]
  },
  {
   "cell_type": "code",
   "execution_count": 13,
   "metadata": {},
   "outputs": [],
   "source": [
    "df_x = df_x.apply_map(lambda x: x.full_simplify())\n",
    "df_y = df_y.apply_map(lambda x: x.full_simplify())"
   ]
  },
  {
   "cell_type": "code",
   "execution_count": 14,
   "metadata": {},
   "outputs": [
    {
     "data": {
      "text/plain": [
       "\\left(\\begin{array}{rrrr}\n",
       "0 & 1 & 0 & 0 \\\\\n",
       "\\frac{1}{2} \\, {\\left(\\gamma - 3\\right)} v_{1}^{2} + \\frac{1}{2} \\, {\\left(\\gamma - 1\\right)} v_{2}^{2} & -{\\left(\\gamma - 3\\right)} v_{1} & -{\\left(\\gamma - 1\\right)} v_{2} & \\gamma - 1 \\\\\n",
       "-v_{1} v_{2} & v_{2} & v_{1} & 0 \\\\\n",
       "\\frac{{\\left(\\gamma^{2} - 2 \\, \\gamma + 1\\right)} u_{0} v_{1}^{3} + {\\left(\\gamma^{2} - 2 \\, \\gamma + 1\\right)} u_{0} v_{1} v_{2}^{2} - {\\left(\\gamma \\phi u_{0} + \\gamma p\\right)} v_{1}}{{\\left(\\gamma - 1\\right)} u_{0}} & -\\frac{3 \\, {\\left(\\gamma^{2} - 2 \\, \\gamma + 1\\right)} u_{0} v_{1}^{2} + {\\left(\\gamma^{2} - 2 \\, \\gamma + 1\\right)} u_{0} v_{2}^{2} - 2 \\, \\gamma \\phi u_{0} - 2 \\, \\gamma p}{2 \\, {\\left(\\gamma - 1\\right)} u_{0}} & -{\\left(\\gamma - 1\\right)} v_{1} v_{2} & \\gamma v_{1}\n",
       "\\end{array}\\right)"
      ]
     },
     "execution_count": 14,
     "metadata": {},
     "output_type": "execute_result"
    }
   ],
   "source": [
    "# Output LaTeX for X Component \n",
    "latex(df_x)"
   ]
  },
  {
   "cell_type": "code",
   "execution_count": 15,
   "metadata": {},
   "outputs": [
    {
     "data": {
      "text/plain": [
       "\\left(\\begin{array}{rrrr}\n",
       "0 & 0 & 1 & 0 \\\\\n",
       "-v_{1} v_{2} & v_{2} & v_{1} & 0 \\\\\n",
       "\\frac{1}{2} \\, {\\left(\\gamma - 1\\right)} v_{1}^{2} + \\frac{1}{2} \\, {\\left(\\gamma - 3\\right)} v_{2}^{2} & -{\\left(\\gamma - 1\\right)} v_{1} & -{\\left(\\gamma - 3\\right)} v_{2} & \\gamma - 1 \\\\\n",
       "\\frac{{\\left(\\gamma^{2} - 2 \\, \\gamma + 1\\right)} u_{0} v_{2}^{3} + {\\left({\\left(\\gamma^{2} - 2 \\, \\gamma + 1\\right)} u_{0} v_{1}^{2} - \\gamma \\phi u_{0} - \\gamma p\\right)} v_{2}}{{\\left(\\gamma - 1\\right)} u_{0}} & -{\\left(\\gamma - 1\\right)} v_{1} v_{2} & -\\frac{{\\left(\\gamma^{2} - 2 \\, \\gamma + 1\\right)} u_{0} v_{1}^{2} + 3 \\, {\\left(\\gamma^{2} - 2 \\, \\gamma + 1\\right)} u_{0} v_{2}^{2} - 2 \\, \\gamma \\phi u_{0} - 2 \\, \\gamma p}{2 \\, {\\left(\\gamma - 1\\right)} u_{0}} & \\gamma v_{2}\n",
       "\\end{array}\\right)"
      ]
     },
     "execution_count": 15,
     "metadata": {},
     "output_type": "execute_result"
    }
   ],
   "source": [
    "# Output LaTeX for YComponent \n",
    "latex(df_y)"
   ]
  },
  {
   "cell_type": "code",
   "execution_count": 17,
   "metadata": {},
   "outputs": [],
   "source": [
    "view(latex(df_nu))"
   ]
  },
  {
   "cell_type": "code",
   "execution_count": null,
   "metadata": {},
   "outputs": [],
   "source": []
  },
  {
   "cell_type": "code",
   "execution_count": null,
   "metadata": {},
   "outputs": [],
   "source": []
  }
 ],
 "metadata": {
  "kernelspec": {
   "display_name": "SageMath 8.7",
   "language": "",
   "name": "sagemath"
  },
  "language_info": {
   "codemirror_mode": {
    "name": "ipython",
    "version": 2
   },
   "file_extension": ".py",
   "mimetype": "text/x-python",
   "name": "python",
   "nbconvert_exporter": "python",
   "pygments_lexer": "ipython2",
   "version": "2.7.16"
  }
 },
 "nbformat": 4,
 "nbformat_minor": 2
}
