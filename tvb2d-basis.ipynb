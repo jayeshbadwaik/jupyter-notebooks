{
 "cells": [
  {
   "cell_type": "code",
   "execution_count": 4,
   "metadata": {},
   "outputs": [],
   "source": [
    "import sympy"
   ]
  },
  {
   "cell_type": "code",
   "execution_count": 5,
   "metadata": {},
   "outputs": [],
   "source": [
    "x_0 = var('x_0')\n",
    "y_0 = var('y_0')\n",
    "x_1 = var('x_1')\n",
    "y_1 = var('y_1')\n",
    "x_2 = var('x_2')\n",
    "y_2 = var('y_2')"
   ]
  },
  {
   "cell_type": "code",
   "execution_count": 6,
   "metadata": {},
   "outputs": [
    {
     "data": {
      "text/plain": [
       "0"
      ]
     },
     "execution_count": 6,
     "metadata": {},
     "output_type": "execute_result"
    }
   ],
   "source": [
    "b0 = [1, 0, 0]\n",
    "B0 = matrix(SR, 3, b0)\n",
    "\n",
    "b1 = [0, 1, 0]\n",
    "B1 = matrix(SR, 3, b1)\n",
    "\n",
    "b2 = [0, 0, 1]\n",
    "B2 = matrix(SR, 3, b2)\n",
    "\n",
    "\n",
    "M = matrix([[1,x_0,y_0],[1,x_1,y_1],[1,x_2,y_2]])\n",
    "\n",
    "K = (x_1 - x_2) * y_0 - (x_0 - x_2) * y_1 + (x_0 - x_1) * y_2\n",
    "A = 0.5 *(x_0 * y_1 + x_1 * y_2 + x_2 * y_0 - x_0 * y_2 - x_2 * y_1 - x_1 * y_0)\n",
    "\n",
    "(2 * A + K).full_simplify()"
   ]
  },
  {
   "cell_type": "code",
   "execution_count": 7,
   "metadata": {},
   "outputs": [],
   "source": [
    "IM = M.inverse()\n",
    "IMs = IM.apply_map(lambda x: x.full_simplify())"
   ]
  },
  {
   "cell_type": "code",
   "execution_count": 8,
   "metadata": {},
   "outputs": [],
   "source": [
    "A0 = (IM * B0)\n",
    "A1 = (IM * B1)\n",
    "A2 = (IM * B2)"
   ]
  },
  {
   "cell_type": "code",
   "execution_count": 9,
   "metadata": {},
   "outputs": [
    {
     "data": {
      "text/plain": [
       "\\left(\\begin{array}{r}\n",
       "x_{2} y_{1} - x_{1} y_{2} \\\\\n",
       "-y_{1} + y_{2} \\\\\n",
       "x_{1} - x_{2}\n",
       "\\end{array}\\right)"
      ]
     },
     "execution_count": 9,
     "metadata": {},
     "output_type": "execute_result"
    }
   ],
   "source": [
    "latex((A0*K).apply_map(lambda x : x.full_simplify()))"
   ]
  },
  {
   "cell_type": "code",
   "execution_count": 10,
   "metadata": {},
   "outputs": [
    {
     "data": {
      "text/plain": [
       "\\left(\\begin{array}{r}\n",
       "-x_{2} y_{0} + x_{0} y_{2} \\\\\n",
       "y_{0} - y_{2} \\\\\n",
       "-x_{0} + x_{2}\n",
       "\\end{array}\\right)"
      ]
     },
     "execution_count": 10,
     "metadata": {},
     "output_type": "execute_result"
    }
   ],
   "source": [
    "latex((A1*K).apply_map(lambda x : x.full_simplify()))"
   ]
  },
  {
   "cell_type": "code",
   "execution_count": 11,
   "metadata": {},
   "outputs": [
    {
     "data": {
      "text/plain": [
       "\\left(\\begin{array}{r}\n",
       "x_{1} y_{0} - x_{0} y_{1} \\\\\n",
       "-y_{0} + y_{1} \\\\\n",
       "x_{0} - x_{1}\n",
       "\\end{array}\\right)"
      ]
     },
     "execution_count": 11,
     "metadata": {},
     "output_type": "execute_result"
    }
   ],
   "source": [
    "latex((A2*K).apply_map(lambda x : x.full_simplify()))"
   ]
  },
  {
   "cell_type": "code",
   "execution_count": 12,
   "metadata": {},
   "outputs": [],
   "source": [
    "a0 = A0({x_0:0.5, y_0 : 0, x_1 : 0, y_1 : 0.5, x_2: 0.5, y_2: 0.5})"
   ]
  },
  {
   "cell_type": "code",
   "execution_count": 13,
   "metadata": {},
   "outputs": [
    {
     "data": {
      "text/plain": [
       "[ 1.0]\n",
       "[   0]\n",
       "[-2.0]"
      ]
     },
     "execution_count": 13,
     "metadata": {},
     "output_type": "execute_result"
    }
   ],
   "source": [
    "a0.apply_map(lambda x : x.full_simplify())"
   ]
  },
  {
   "cell_type": "code",
   "execution_count": 14,
   "metadata": {},
   "outputs": [],
   "source": [
    "a1 = A1({x_0:0.5, y_0 : 0, x_1 : 0, y_1 : 0.5, x_2: 0.5, y_2: 0.5})"
   ]
  },
  {
   "cell_type": "code",
   "execution_count": 15,
   "metadata": {},
   "outputs": [
    {
     "data": {
      "text/plain": [
       "[ 1.0]\n",
       "[-2.0]\n",
       "[   0]"
      ]
     },
     "execution_count": 15,
     "metadata": {},
     "output_type": "execute_result"
    }
   ],
   "source": [
    "a1.apply_map(lambda x : x.full_simplify())"
   ]
  },
  {
   "cell_type": "code",
   "execution_count": 16,
   "metadata": {},
   "outputs": [],
   "source": [
    "a2 = A2({x_0:0.5, y_0 : 0, x_1 : 0, y_1 : 0.5, x_2: 0.5, y_2: 0.5})"
   ]
  },
  {
   "cell_type": "code",
   "execution_count": 17,
   "metadata": {},
   "outputs": [
    {
     "data": {
      "text/plain": [
       "[-1.0]\n",
       "[ 2.0]\n",
       "[ 2.0]"
      ]
     },
     "execution_count": 17,
     "metadata": {},
     "output_type": "execute_result"
    }
   ],
   "source": [
    "a2.apply_map(lambda x : x.full_simplify())"
   ]
  },
  {
   "cell_type": "code",
   "execution_count": 18,
   "metadata": {},
   "outputs": [
    {
     "data": {
      "text/plain": [
       "[ 1.00000000000000]\n",
       "[0.000000000000000]\n",
       "[-2.00000000000000]"
      ]
     },
     "execution_count": 18,
     "metadata": {},
     "output_type": "execute_result"
    }
   ],
   "source": []
  },
  {
   "cell_type": "code",
   "execution_count": 195,
   "metadata": {},
   "outputs": [
    {
     "data": {
      "text/plain": [
       "[\n",
       "[ 1.00000000000000]  [  1.00000000000000]  [-1.00000000000000]\n",
       "[0.000000000000000]  [ -2.00000000000000]  [ 2.00000000000000]\n",
       "[-2.00000000000000], [-0.000000000000000], [ 2.00000000000000]\n",
       "]"
      ]
     },
     "execution_count": 195,
     "metadata": {},
     "output_type": "execute_result"
    }
   ],
   "source": []
  },
  {
   "cell_type": "code",
   "execution_count": null,
   "metadata": {},
   "outputs": [],
   "source": []
  }
 ],
 "metadata": {
  "kernelspec": {
   "display_name": "SageMath 8.7",
   "language": "",
   "name": "sagemath"
  },
  "language_info": {
   "codemirror_mode": {
    "name": "ipython",
    "version": 2
   },
   "file_extension": ".py",
   "mimetype": "text/x-python",
   "name": "python",
   "nbconvert_exporter": "python",
   "pygments_lexer": "ipython2",
   "version": "2.7.16"
  }
 },
 "nbformat": 4,
 "nbformat_minor": 2
}
